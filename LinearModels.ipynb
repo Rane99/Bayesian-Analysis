{
 "cells": [
  {
   "cell_type": "markdown",
   "metadata": {},
   "source": [
    "Linear Model"
   ]
  },
  {
   "cell_type": "code",
   "execution_count": null,
   "metadata": {},
   "outputs": [],
   "source": [
    "fit_linear <- brm(Life.expectancy ~ Alcohol, data = data,family = gaussian())"
   ]
  },
  {
   "cell_type": "code",
   "execution_count": null,
   "metadata": {},
   "outputs": [],
   "source": [
    "marginal_effects(fit_linear)"
   ]
  },
  {
   "cell_type": "code",
   "execution_count": null,
   "metadata": {},
   "outputs": [],
   "source": [
    "x_predict <- seq(0, 15)\n",
    "N_predict <- length(x_predict)\n",
    "y_predict <- posterior_predict(fit_linear, newdata=data.frame(Alcohol=x_predict))\n",
    "mu <- apply(t(y_predict), 1, quantile, c(0.05, 0.5, 0.95)) %>%\n",
    "  t() %>% data.frame(x = x_predict, .) %>% gather(pct, y, -x)\n",
    "pfit <- ggplot() +\n",
    "  geom_point(aes(Alcohol, Life.expectancy), data = data, size = 1) +\n",
    "  geom_line(aes(x, y, linetype = pct), data = mu, color = 'red') +\n",
    "  scale_linetype_manual(values = c(2,1,2)) +\n",
    "  labs(x = 'Alcohol', y = 'Life.expectancy') +\n",
    "  guides(linetype = F)\n",
    "(pfit)"
   ]
  },
  {
   "cell_type": "code",
   "execution_count": null,
   "metadata": {},
   "outputs": [],
   "source": [
    "pp_check(fit_linear)"
   ]
  },
  {
   "cell_type": "code",
   "execution_count": null,
   "metadata": {},
   "outputs": [],
   "source": [
    "summary(fit_linear)"
   ]
  },
  {
   "cell_type": "code",
   "execution_count": null,
   "metadata": {},
   "outputs": [],
   "source": [
    "mcmc_rhat(rhat(fit_linear))+ yaxis_text(hjust = 1)"
   ]
  },
  {
   "cell_type": "code",
   "execution_count": null,
   "metadata": {},
   "outputs": [],
   "source": [
    "plot(fit_linear)"
   ]
  },
  {
   "cell_type": "code",
   "execution_count": null,
   "metadata": {},
   "outputs": [],
   "source": [
    "brms::loo(fit_linear)"
   ]
  },
  {
   "cell_type": "markdown",
   "metadata": {},
   "source": [
    "Second order"
   ]
  },
  {
   "cell_type": "code",
   "execution_count": null,
   "metadata": {},
   "outputs": [],
   "source": [
    "fit_second_order_polynomial <- \n",
    "  brm(data = data, family = gaussian(),\n",
    "      Life.expectancy ~ 1 + Alcohol + I(Alcohol^2) \n",
    ")"
   ]
  },
  {
   "cell_type": "markdown",
   "metadata": {},
   "source": [
    "Logharitmic"
   ]
  },
  {
   "cell_type": "code",
   "execution_count": null,
   "metadata": {},
   "outputs": [],
   "source": [
    "fit_logarithmic <- \n",
    "  brm(data = data, family = gaussian(),\n",
    "      Life.expectancy ~ 1 + I(log(Alcohol))\n",
    ")"
   ]
  }
 ],
 "metadata": {
  "kernelspec": {
   "display_name": "R",
   "language": "R",
   "name": "ir"
  },
  "language_info": {
   "codemirror_mode": "r",
   "file_extension": ".r",
   "mimetype": "text/x-r-source",
   "name": "R",
   "pygments_lexer": "r",
   "version": "3.6.3"
  }
 },
 "nbformat": 4,
 "nbformat_minor": 4
}
